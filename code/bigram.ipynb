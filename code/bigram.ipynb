{
 "cells": [
  {
   "cell_type": "code",
   "execution_count": 1,
   "id": "2eaf5a6d-3ae3-48a8-9dc0-fb120206d03a",
   "metadata": {},
   "outputs": [],
   "source": [
    "import torch"
   ]
  },
  {
   "cell_type": "code",
   "execution_count": 2,
   "id": "5407b856-039b-4bff-92ba-218efeba700c",
   "metadata": {},
   "outputs": [
    {
     "name": "stdout",
     "output_type": "stream",
     "text": [
      "Length of the text is 142467\n",
      "['\\n', ' ', '!', '&', ',', '-', '.', ':', ';', '?', 'A', 'B', 'C', 'D', 'E', 'F', 'G', 'H', 'I', 'J', 'K', 'L', 'M', 'N', 'O', 'P', 'Q', 'R', 'S', 'T', 'U', 'V', 'W', 'Y', 'Z', '[', ']', '_', 'a', 'b', 'c', 'd', 'e', 'f', 'g', 'h', 'i', 'j', 'k', 'l', 'm', 'n', 'o', 'p', 'q', 'r', 's', 't', 'u', 'v', 'w', 'x', 'y', 'z', 'æ', '—', '‘', '’', '“', '”', '\\ufeff']\n",
      "Number of tokens is 71\n"
     ]
    }
   ],
   "source": [
    "with open(\"../data/Romeo_and_Juliet_by_William_Shakespeare.txt\", 'r', encoding='utf-8') as f:\n",
    "    text = f.read()\n",
    "\n",
    "tokens = sorted(set(text))\n",
    "print(f\"Length of the text is {len(text)}\")\n",
    "print(tokens)\n",
    "print(f\"Number of tokens is {len(tokens)}\")"
   ]
  },
  {
   "cell_type": "code",
   "execution_count": 3,
   "id": "19ea3929-7838-4dfb-8503-8b41334799eb",
   "metadata": {},
   "outputs": [],
   "source": [
    "string_to_int = { ch:i for i, ch in enumerate(tokens)}\n",
    "int_to_string = { i:ch for i, ch in enumerate(tokens)}\n",
    "\n",
    "encode = lambda s: [string_to_int[c] for c in s]\n",
    "decode = lambda l: \"\".join([int_to_string[i] for i in l])"
   ]
  },
  {
   "cell_type": "code",
   "execution_count": 4,
   "id": "cea20481-d8da-4f4c-a194-5dcdcd750b10",
   "metadata": {},
   "outputs": [
    {
     "name": "stdout",
     "output_type": "stream",
     "text": [
      "[25, 55, 38, 57, 45, 38, 50]\n",
      "Pratham\n"
     ]
    }
   ],
   "source": [
    "e = encode(\"Pratham\")\n",
    "print(e)\n",
    "d = decode(e)\n",
    "print(d)"
   ]
  },
  {
   "cell_type": "code",
   "execution_count": 5,
   "id": "1f2c75e7-3d19-4a32-8beb-6a0ba1a79d2c",
   "metadata": {},
   "outputs": [],
   "source": [
    "data = torch.tensor(encode(text), dtype=torch.long)"
   ]
  },
  {
   "cell_type": "code",
   "execution_count": 6,
   "id": "bf1a3b05-40b7-4686-add6-f19e09d52540",
   "metadata": {},
   "outputs": [
    {
     "name": "stdout",
     "output_type": "stream",
     "text": [
      "tensor([70, 29, 17, 14,  1, 29, 27, 10, 16, 14, 13, 33,  1, 24, 15,  1, 27, 24,\n",
      "        22, 14, 24,  1, 10, 23, 13,  1, 19, 30, 21, 18, 14, 29,  0,  0, 39, 62,\n",
      "         1, 32, 46, 49, 49, 46, 38, 50,  1, 28, 45, 38, 48, 42, 56, 53, 42, 38,\n",
      "        55, 42,  0,  0,  0,  0,  0, 12, 52, 51, 57, 42, 51, 57, 56,  0,  0, 29,\n",
      "        17, 14,  1, 25, 27, 24, 21, 24, 16, 30, 14,  6,  0,  0, 10, 12, 29,  1,\n",
      "        18,  0, 28, 40, 42, 51, 42,  1, 18,  6])\n"
     ]
    }
   ],
   "source": [
    "print(data[:100])"
   ]
  },
  {
   "cell_type": "code",
   "execution_count": 7,
   "id": "69511f4d-4162-446b-99c4-8d7312bf107c",
   "metadata": {},
   "outputs": [],
   "source": [
    "n = int(0.8*len(data))\n",
    "\n",
    "train_data = data[:n]\n",
    "val_data = data[n:]"
   ]
  },
  {
   "cell_type": "code",
   "execution_count": 10,
   "id": "2de165b9-b468-485b-869f-298e47ebd595",
   "metadata": {},
   "outputs": [
    {
     "name": "stdout",
     "output_type": "stream",
     "text": [
      "When input is tensor([70]) the target is 29\n",
      "When input is tensor([70, 29]) the target is 17\n",
      "When input is tensor([70, 29, 17]) the target is 14\n",
      "When input is tensor([70, 29, 17, 14]) the target is 1\n",
      "When input is tensor([70, 29, 17, 14,  1]) the target is 29\n",
      "When input is tensor([70, 29, 17, 14,  1, 29]) the target is 27\n",
      "When input is tensor([70, 29, 17, 14,  1, 29, 27]) the target is 10\n",
      "When input is tensor([70, 29, 17, 14,  1, 29, 27, 10]) the target is 16\n",
      "When input is tensor([70, 29, 17, 14,  1, 29, 27, 10, 16]) the target is 14\n",
      "When input is tensor([70, 29, 17, 14,  1, 29, 27, 10, 16, 14]) the target is 13\n"
     ]
    }
   ],
   "source": [
    "blockSize = 10\n",
    "\n",
    "x = train_data[: blockSize]\n",
    "y = train_data[1: blockSize + 1]\n",
    "\n",
    "for t in range(blockSize):\n",
    "    context = x[:t + 1]\n",
    "    target = y[t]\n",
    "    print(f\"When input is {context} the target is {target}\")"
   ]
  },
  {
   "cell_type": "code",
   "execution_count": null,
   "id": "e8547a5b-465a-4542-a5d2-ef0b4660defa",
   "metadata": {},
   "outputs": [],
   "source": []
  }
 ],
 "metadata": {
  "kernelspec": {
   "display_name": "CUDA",
   "language": "python",
   "name": "cuda"
  },
  "language_info": {
   "codemirror_mode": {
    "name": "ipython",
    "version": 3
   },
   "file_extension": ".py",
   "mimetype": "text/x-python",
   "name": "python",
   "nbconvert_exporter": "python",
   "pygments_lexer": "ipython3",
   "version": "3.10.12"
  }
 },
 "nbformat": 4,
 "nbformat_minor": 5
}
