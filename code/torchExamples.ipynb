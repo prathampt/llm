{
 "cells": [
  {
   "cell_type": "code",
   "execution_count": 1,
   "id": "64ec7d6a-3588-4677-8a8e-bbbc8a5bf1be",
   "metadata": {},
   "outputs": [],
   "source": [
    "import torch\n",
    "import time\n",
    "\n",
    "device = 'cpu'"
   ]
  },
  {
   "cell_type": "code",
   "execution_count": 2,
   "id": "53d60ea4-53e5-49d6-985f-b8fbbba27f02",
   "metadata": {},
   "outputs": [
    {
     "data": {
      "text/plain": [
       "tensor([[-98,  76, -90, -18,  81],\n",
       "        [ 42,  72,  48, -32,  96],\n",
       "        [-70,   0,  -3,  84, -95],\n",
       "        [-10, -38,   2,  -6,  16],\n",
       "        [ 76,  87, -97,  49, -42],\n",
       "        [ 57,  87,  31, -91,  86]])"
      ]
     },
     "execution_count": 2,
     "metadata": {},
     "output_type": "execute_result"
    }
   ],
   "source": [
    "randint = torch.randint(-100, 100, (6, 5))\n",
    "randint"
   ]
  },
  {
   "cell_type": "code",
   "execution_count": 3,
   "id": "09461ef7-37ac-4798-9ef1-eab666ba14a3",
   "metadata": {},
   "outputs": [
    {
     "data": {
      "text/plain": [
       "tensor([[0., 0., 0., 0.],\n",
       "        [0., 0., 0., 0.],\n",
       "        [0., 0., 0., 0.]])"
      ]
     },
     "execution_count": 3,
     "metadata": {},
     "output_type": "execute_result"
    }
   ],
   "source": [
    "zeros = torch.zeros(3, 4)\n",
    "zeros"
   ]
  },
  {
   "cell_type": "code",
   "execution_count": 4,
   "id": "713759b8-9808-47ad-8bd2-49efc22a954c",
   "metadata": {},
   "outputs": [
    {
     "data": {
      "text/plain": [
       "tensor([[1., 1., 1., 1., 1., 1.],\n",
       "        [1., 1., 1., 1., 1., 1.],\n",
       "        [1., 1., 1., 1., 1., 1.],\n",
       "        [1., 1., 1., 1., 1., 1.],\n",
       "        [1., 1., 1., 1., 1., 1.]])"
      ]
     },
     "execution_count": 4,
     "metadata": {},
     "output_type": "execute_result"
    }
   ],
   "source": [
    "ones = torch.ones(5, 6)\n",
    "ones"
   ]
  },
  {
   "cell_type": "code",
   "execution_count": 5,
   "id": "f9a54329-8864-4bee-a779-98099ab777e3",
   "metadata": {},
   "outputs": [
    {
     "data": {
      "text/plain": [
       "tensor([[2., 3., 5.],\n",
       "        [4., 6., 3.],\n",
       "        [0., 4., 6.]])"
      ]
     },
     "execution_count": 5,
     "metadata": {},
     "output_type": "execute_result"
    }
   ],
   "source": [
    "tensor = torch.tensor([[2, 3, 5], [4, 6, 3], [0, 4, 6]], dtype=torch.float)\n",
    "tensor"
   ]
  },
  {
   "cell_type": "code",
   "execution_count": 6,
   "id": "9b7a33b1-d444-41e5-90bc-4043b38c3937",
   "metadata": {},
   "outputs": [
    {
     "data": {
      "text/plain": [
       "tensor([-1.9994e-38,  3.0774e-41, -1.9998e-38,  3.0774e-41,  8.9683e-44,\n",
       "         0.0000e+00])"
      ]
     },
     "execution_count": 6,
     "metadata": {},
     "output_type": "execute_result"
    }
   ],
   "source": [
    "empty = torch.empty(6)\n",
    "empty"
   ]
  },
  {
   "cell_type": "code",
   "execution_count": 7,
   "id": "3657496c-8a03-418d-8738-95ba503a4dd0",
   "metadata": {},
   "outputs": [
    {
     "data": {
      "text/plain": [
       "tensor([0, 1, 2, 3, 4, 5, 6, 7, 8])"
      ]
     },
     "execution_count": 7,
     "metadata": {},
     "output_type": "execute_result"
    }
   ],
   "source": [
    "arange = torch.arange(9)\n",
    "arange"
   ]
  },
  {
   "cell_type": "code",
   "execution_count": 8,
   "id": "51739389-c8d1-4055-8b85-ab55e942c94f",
   "metadata": {},
   "outputs": [
    {
     "data": {
      "text/plain": [
       "tensor([-3.0000,  0.3750,  3.7500,  7.1250, 10.5000, 13.8750, 17.2500, 20.6250,\n",
       "        24.0000])"
      ]
     },
     "execution_count": 8,
     "metadata": {},
     "output_type": "execute_result"
    }
   ],
   "source": [
    "linspace = torch.linspace(-3, 24, steps=9)\n",
    "linspace"
   ]
  },
  {
   "cell_type": "code",
   "execution_count": 9,
   "id": "84c5e759-bb7f-4955-857d-d901de110db5",
   "metadata": {},
   "outputs": [
    {
     "data": {
      "text/plain": [
       "tensor([1.0000e-03, 2.3714e+00, 5.6234e+03, 1.3335e+07, 3.1623e+10, 7.4989e+13,\n",
       "        1.7783e+17, 4.2170e+20, 1.0000e+24])"
      ]
     },
     "execution_count": 9,
     "metadata": {},
     "output_type": "execute_result"
    }
   ],
   "source": [
    "logspace = torch.logspace(-3, 24, steps=9)\n",
    "logspace"
   ]
  },
  {
   "cell_type": "code",
   "execution_count": 10,
   "id": "01e95724-4017-4bee-9a17-77f5af5a48b1",
   "metadata": {},
   "outputs": [
    {
     "data": {
      "text/plain": [
       "tensor([[1., 0., 0., 0., 0.],\n",
       "        [0., 1., 0., 0., 0.],\n",
       "        [0., 0., 1., 0., 0.],\n",
       "        [0., 0., 0., 1., 0.],\n",
       "        [0., 0., 0., 0., 1.]])"
      ]
     },
     "execution_count": 10,
     "metadata": {},
     "output_type": "execute_result"
    }
   ],
   "source": [
    "eye = torch.eye(5)\n",
    "eye"
   ]
  },
  {
   "cell_type": "code",
   "execution_count": 11,
   "id": "e1eab5a9-7b68-47a3-834a-eed6049774e6",
   "metadata": {},
   "outputs": [
    {
     "name": "stdout",
     "output_type": "stream",
     "text": [
      "0.2660877705\n"
     ]
    }
   ],
   "source": [
    "torch_rand1 = torch.rand(100, 100, 100, 100).to(device)\n",
    "torch_rand2 = torch.rand(100, 100, 100, 100).to(device)\n",
    "\n",
    "start = time.time()\n",
    "\n",
    "rand = (torch_rand1 @ torch_rand2)\n",
    "\n",
    "end = time.time()\n",
    "\n",
    "elapsed_time = end - start\n",
    "\n",
    "print(f\"{elapsed_time:.10f}\")"
   ]
  },
  {
   "cell_type": "code",
   "execution_count": 12,
   "id": "95efcc1f-daf3-4125-b2fc-6daf1724529d",
   "metadata": {},
   "outputs": [
    {
     "name": "stdout",
     "output_type": "stream",
     "text": [
      "CPU times: user 281 ms, sys: 90.4 ms, total: 371 ms\n",
      "Wall time: 91.7 ms\n"
     ]
    }
   ],
   "source": [
    "%%time\n",
    "\n",
    "torch_rand1 = torch.rand(50, 50, 50, 50).to(device)\n",
    "torch_rand2 = torch.rand(50, 50, 50, 50).to(device)\n",
    "\n",
    "rand = (torch_rand1 @ torch_rand2)\n"
   ]
  },
  {
   "cell_type": "code",
   "execution_count": 15,
   "id": "4acacfff-c319-4b5c-b4e2-f8628b4ad778",
   "metadata": {},
   "outputs": [
    {
     "name": "stdout",
     "output_type": "stream",
     "text": [
      "tensor([1, 1, 1, 1, 0, 1, 1, 1, 1, 1, 1, 1, 1, 1, 1, 1, 1, 1, 1, 1])\n"
     ]
    }
   ],
   "source": [
    "# Define a probability tensor\n",
    "probability = torch.tensor([0.1, 0.9])\n",
    "\n",
    "# This will give us the samples with the probability, ie. 0 will come with probability of 10% and 1 will come with probability of 90%...\n",
    "samples = torch.multinomial(probability, num_samples=20, replacement=True)\n",
    "print(samples)"
   ]
  },
  {
   "cell_type": "code",
   "execution_count": 17,
   "id": "982b173c-5301-4d90-9b49-231ffd825032",
   "metadata": {},
   "outputs": [
    {
     "name": "stdout",
     "output_type": "stream",
     "text": [
      "tensor([1, 0, 1, 0, 0, 1, 0, 1, 1, 0, 0, 1, 0, 0, 1, 0, 0, 1, 1, 0])\n"
     ]
    }
   ],
   "source": [
    "probability = torch.tensor([0.5, 0.5])\n",
    "samples = torch.multinomial(probability, num_samples=20, replacement=True)\n",
    "print(samples)"
   ]
  },
  {
   "cell_type": "code",
   "execution_count": 19,
   "id": "ada1c1d3-6e9b-49b7-8810-21c5781c840f",
   "metadata": {},
   "outputs": [
    {
     "data": {
      "text/plain": [
       "tensor([1, 2, 3, 4, 5, 6])"
      ]
     },
     "execution_count": 19,
     "metadata": {},
     "output_type": "execute_result"
    }
   ],
   "source": [
    "t = torch.tensor([1, 2, 3, 4, 5])\n",
    "out = torch.cat((t, torch.tensor([6])), dim=0)\n",
    "out"
   ]
  },
  {
   "cell_type": "code",
   "execution_count": 20,
   "id": "d54adfc1-628e-421c-b79e-0891a2111981",
   "metadata": {},
   "outputs": [
    {
     "data": {
      "text/plain": [
       "tensor([[1., 0., 0., 0., 0.],\n",
       "        [1., 1., 0., 0., 0.],\n",
       "        [1., 1., 1., 0., 0.],\n",
       "        [1., 1., 1., 1., 0.],\n",
       "        [1., 1., 1., 1., 1.]])"
      ]
     },
     "execution_count": 20,
     "metadata": {},
     "output_type": "execute_result"
    }
   ],
   "source": [
    "p = torch.tril(torch.ones((5, 5)))\n",
    "p"
   ]
  },
  {
   "cell_type": "code",
   "execution_count": 21,
   "id": "108dde3d-21c9-4042-b942-c3b9f5723fff",
   "metadata": {},
   "outputs": [
    {
     "data": {
      "text/plain": [
       "tensor([[1., 1., 1., 1., 1., 1.],\n",
       "        [0., 1., 1., 1., 1., 1.],\n",
       "        [0., 0., 1., 1., 1., 1.],\n",
       "        [0., 0., 0., 1., 1., 1.],\n",
       "        [0., 0., 0., 0., 1., 1.],\n",
       "        [0., 0., 0., 0., 0., 1.]])"
      ]
     },
     "execution_count": 21,
     "metadata": {},
     "output_type": "execute_result"
    }
   ],
   "source": [
    "q = torch.triu(torch.ones((6, 6)))\n",
    "q"
   ]
  },
  {
   "cell_type": "code",
   "execution_count": 24,
   "id": "ef23b321-cc2b-4646-b37d-103fe96e1bbe",
   "metadata": {},
   "outputs": [
    {
     "data": {
      "text/plain": [
       "tensor([[0., -inf, -inf, -inf, -inf],\n",
       "        [0., 0., -inf, -inf, -inf],\n",
       "        [0., 0., 0., -inf, -inf],\n",
       "        [0., 0., 0., 0., -inf],\n",
       "        [0., 0., 0., 0., 0.]])"
      ]
     },
     "execution_count": 24,
     "metadata": {},
     "output_type": "execute_result"
    }
   ],
   "source": [
    "r = torch.zeros(5, 5).masked_fill(torch.tril(torch.ones(5, 5)) == 0, float('-inf'))\n",
    "r"
   ]
  },
  {
   "cell_type": "code",
   "execution_count": 26,
   "id": "f6b428e6-6ed2-4a85-bf70-df27a61690f4",
   "metadata": {},
   "outputs": [
    {
     "data": {
      "text/plain": [
       "tensor([[1., 0., 0., 0., 0.],\n",
       "        [1., 1., 0., 0., 0.],\n",
       "        [1., 1., 1., 0., 0.],\n",
       "        [1., 1., 1., 1., 0.],\n",
       "        [1., 1., 1., 1., 1.]])"
      ]
     },
     "execution_count": 26,
     "metadata": {},
     "output_type": "execute_result"
    }
   ],
   "source": [
    "torch.exp(r) # e raised to above function..."
   ]
  },
  {
   "cell_type": "code",
   "execution_count": 32,
   "id": "684e2405-000f-42de-8e53-b61b801d9d24",
   "metadata": {},
   "outputs": [
    {
     "name": "stdout",
     "output_type": "stream",
     "text": [
      "torch.Size([2, 3, 4])\n",
      "torch.Size([4, 3, 2])\n"
     ]
    }
   ],
   "source": [
    "s = torch.zeros(2, 3, 4)\n",
    "t = s.transpose(0, 2) # Replaces 0th dimension with 2nd dimension...\n",
    "print(s.shape)\n",
    "print(t.shape)"
   ]
  },
  {
   "cell_type": "code",
   "execution_count": 33,
   "id": "0608f596-4335-4063-ae97-d244f7f05e71",
   "metadata": {},
   "outputs": [
    {
     "name": "stdout",
     "output_type": "stream",
     "text": [
      "torch.Size([3, 4, 6, 7])\n",
      "torch.Size([7, 6, 4, 3])\n"
     ]
    }
   ],
   "source": [
    "u = torch.ones(3, 4, 6, 7)\n",
    "v = u.transpose(1, 2).transpose(0, 3)\n",
    "print(u.shape)\n",
    "print(v.shape)"
   ]
  },
  {
   "cell_type": "code",
   "execution_count": null,
   "id": "a5cad3c0-2a0c-44cb-a8e9-6bc1675be60c",
   "metadata": {},
   "outputs": [],
   "source": []
  }
 ],
 "metadata": {
  "kernelspec": {
   "display_name": "CUDA",
   "language": "python",
   "name": "cuda"
  },
  "language_info": {
   "codemirror_mode": {
    "name": "ipython",
    "version": 3
   },
   "file_extension": ".py",
   "mimetype": "text/x-python",
   "name": "python",
   "nbconvert_exporter": "python",
   "pygments_lexer": "ipython3",
   "version": "3.10.12"
  }
 },
 "nbformat": 4,
 "nbformat_minor": 5
}
